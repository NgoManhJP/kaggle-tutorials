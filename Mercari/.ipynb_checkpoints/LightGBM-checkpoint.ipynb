{
 "cells": [
  {
   "cell_type": "code",
   "execution_count": 1,
   "metadata": {},
   "outputs": [],
   "source": [
    "import gc\n",
    "import time\n",
    "import numpy as np\n",
    "import pandas as pd\n",
    "\n",
    "from scipy.sparse import csr_matrix, hstack\n",
    "\n",
    "from sklearn.linear_model import Ridge\n",
    "from sklearn.feature_extraction.text import CountVectorizer, TfidfVectorizer\n",
    "from sklearn.preprocessing import LabelBinarizer\n",
    "from sklearn.model_selection import train_test_split, cross_val_score"
   ]
  },
  {
   "cell_type": "code",
   "execution_count": 2,
   "metadata": {},
   "outputs": [],
   "source": [
    "# import lightgbm as lgb"
   ]
  },
  {
   "cell_type": "code",
   "execution_count": 3,
   "metadata": {},
   "outputs": [],
   "source": [
    "NUM_BRANDS = 4004\n",
    "NUM_CATEGORIES = 1001\n",
    "NAME_MIN_DF = 10\n",
    "MAX_FEATURES_ITEM_DESCRIPTION = 3"
   ]
  },
  {
   "cell_type": "code",
   "execution_count": 4,
   "metadata": {},
   "outputs": [],
   "source": [
    "# データタイプを指定\n",
    "types_dict_train = {'train_id':'int64', 'item_condition_id':'int8', 'price':'float64', 'shipping':'int8'}\n",
    "types_dict_test = {'test_id':'int64', 'item_condition_id':'int8', 'shipping':'int8'}\n",
    "# tsvファイルからPandas DataFrameへ読み込み\n",
    "train = pd.read_csv('./input/train.tsv', delimiter='\\t', low_memory=True, dtype=types_dict_train)\n",
    "test = pd.read_csv('./input/test.tsv', delimiter='\\t', low_memory=True, dtype=types_dict_test)\n"
   ]
  },
  {
   "cell_type": "code",
   "execution_count": 5,
   "metadata": {},
   "outputs": [],
   "source": [
    "# handle_missing\n",
    "for df in train, test:\n",
    "    df['category_name'].fillna(value='missing', inplace=True)\n",
    "    df['brand_name'].fillna(value='missing', inplace=True)\n",
    "    df['item_description'].fillna(value='missing', inplace=True)"
   ]
  },
  {
   "cell_type": "code",
   "execution_count": 7,
   "metadata": {},
   "outputs": [],
   "source": [
    "NUM_BRANDS = 4004\n",
    "NUM_CATEGORIES = 1001\n",
    "NAME_MIN_DF = 10\n",
    "MAX_FEATURES_ITEM_DESCRIPTION = 3"
   ]
  },
  {
   "cell_type": "code",
   "execution_count": 8,
   "metadata": {},
   "outputs": [
    {
     "data": {
      "text/plain": [
       "missing                632682\n",
       "PINK                    54088\n",
       "Nike                    54043\n",
       "Victoria's Secret       48036\n",
       "LuLaRoe                 31024\n",
       "Apple                   17322\n",
       "FOREVER 21              15186\n",
       "Nintendo                15007\n",
       "Lululemon               14558\n",
       "Michael Kors            13928\n",
       "American Eagle          13254\n",
       "Rae Dunn                12305\n",
       "Sephora                 12172\n",
       "Coach                   10463\n",
       "Disney                  10360\n",
       "Bath & Body Works       10354\n",
       "Adidas                  10202\n",
       "Funko                    9237\n",
       "Under Armour             8461\n",
       "Sony                     7994\n",
       "Old Navy                 7567\n",
       "Hollister                6948\n",
       "Carter's                 6385\n",
       "Urban Decay              6210\n",
       "The North Face           6172\n",
       "Independent              5902\n",
       "Too Faced                5794\n",
       "Xbox                     5709\n",
       "Brandy Melville          5680\n",
       "Kate Spade               5411\n",
       "                        ...  \n",
       "Brandon Thomas              1\n",
       "Rugged Ridge                1\n",
       "Focus                       1\n",
       "Marisa Christina            1\n",
       "Peripera                    1\n",
       "Eclectic Products           1\n",
       "Oxbow                       1\n",
       "Cachet                      1\n",
       "Gamo                        1\n",
       "Emachines                   1\n",
       "P&N                         1\n",
       "L’Occitane                  1\n",
       "Josef Seibel                1\n",
       "Prairie Dog Antlers         1\n",
       "Pure Boxing                 1\n",
       "Sprout                      1\n",
       "Kae Argatherapie            1\n",
       "tm!                         1\n",
       "Cambio                      1\n",
       "Hot Chillys                 1\n",
       "Guidecraft                  1\n",
       "Love Riche                  1\n",
       "Ivy Crew                    1\n",
       "LaMarque                    1\n",
       "XEN-TAN                     1\n",
       "Andrea by Sadek             1\n",
       "DRI DUCK                    1\n",
       "Beverly Hills MD            1\n",
       "REPORT                      1\n",
       "Brockum                     1\n",
       "Name: brand_name, Length: 4810, dtype: int64"
      ]
     },
     "execution_count": 8,
     "metadata": {},
     "output_type": "execute_result"
    }
   ],
   "source": [
    "train['brand_name'].value_counts()"
   ]
  },
  {
   "cell_type": "code",
   "execution_count": 9,
   "metadata": {},
   "outputs": [],
   "source": [
    "pop_brand = train['brand_name'].value_counts().loc[lambda x: x.index != 'missing'].index[:NUM_BRANDS]"
   ]
  },
  {
   "cell_type": "code",
   "execution_count": 11,
   "metadata": {},
   "outputs": [
    {
     "data": {
      "text/plain": [
       "4004"
      ]
     },
     "execution_count": 11,
     "metadata": {},
     "output_type": "execute_result"
    }
   ],
   "source": [
    "len(pop_brand)"
   ]
  },
  {
   "cell_type": "code",
   "execution_count": 12,
   "metadata": {},
   "outputs": [],
   "source": [
    "train.loc[~train['brand_name'].isin(pop_brand), 'brand_name'] = 'missing'"
   ]
  },
  {
   "cell_type": "code",
   "execution_count": 13,
   "metadata": {},
   "outputs": [
    {
     "data": {
      "text/plain": [
       "missing                           633487\n",
       "PINK                               54088\n",
       "Nike                               54043\n",
       "Victoria's Secret                  48036\n",
       "LuLaRoe                            31024\n",
       "Apple                              17322\n",
       "FOREVER 21                         15186\n",
       "Nintendo                           15007\n",
       "Lululemon                          14558\n",
       "Michael Kors                       13928\n",
       "American Eagle                     13254\n",
       "Rae Dunn                           12305\n",
       "Sephora                            12172\n",
       "Coach                              10463\n",
       "Disney                             10360\n",
       "Bath & Body Works                  10354\n",
       "Adidas                             10202\n",
       "Funko                               9237\n",
       "Under Armour                        8461\n",
       "Sony                                7994\n",
       "Old Navy                            7567\n",
       "Hollister                           6948\n",
       "Carter's                            6385\n",
       "Urban Decay                         6210\n",
       "The North Face                      6172\n",
       "Independent                         5902\n",
       "Too Faced                           5794\n",
       "Xbox                                5709\n",
       "Brandy Melville                     5680\n",
       "Kate Spade                          5411\n",
       "                                   ...  \n",
       "DAKS                                   1\n",
       "Siwy Jeans                             1\n",
       "Laguna Beach                           1\n",
       "Elemis Ltd                             1\n",
       "DP                                     1\n",
       "Antik Batik                            1\n",
       "Paradise Found                         1\n",
       "Threads 4 Thought                      1\n",
       "Quiksilver Waterman Collection         1\n",
       "Hanna Andersson                        1\n",
       "Addison                                1\n",
       "Rustlers                               1\n",
       "Fathead                                1\n",
       "Makeup Eraser                          1\n",
       "Babies R Us Infant                     1\n",
       "Chef's Secret                          1\n",
       "Replogle                               1\n",
       "Sky Organics                           1\n",
       "Hipanema                               1\n",
       "Goldberger Co                          1\n",
       "The Bridge Direct                      1\n",
       "ProTec                                 1\n",
       "Alcon                                  1\n",
       "Midtronics                             1\n",
       "Osprey                                 1\n",
       "Irish Setter                           1\n",
       "Gracia                                 1\n",
       "Simms                                  1\n",
       "Naomi & Nicole                         1\n",
       "Knocker                                1\n",
       "Name: brand_name, Length: 4005, dtype: int64"
      ]
     },
     "execution_count": 13,
     "metadata": {},
     "output_type": "execute_result"
    }
   ],
   "source": [
    "train['brand_name'].value_counts()"
   ]
  },
  {
   "cell_type": "code",
   "execution_count": 15,
   "metadata": {},
   "outputs": [],
   "source": [
    "pop_category = train['category_name'].value_counts().loc[lambda x: x.index != 'missing'].index[:NUM_BRANDS]"
   ]
  },
  {
   "cell_type": "code",
   "execution_count": 16,
   "metadata": {},
   "outputs": [
    {
     "data": {
      "text/plain": [
       "Index(['Women/Athletic Apparel/Pants, Tights, Leggings',\n",
       "       'Women/Tops & Blouses/T-Shirts', 'Beauty/Makeup/Face',\n",
       "       'Beauty/Makeup/Lips', 'Electronics/Video Games & Consoles/Games',\n",
       "       'Beauty/Makeup/Eyes',\n",
       "       'Electronics/Cell Phones & Accessories/Cases, Covers & Skins',\n",
       "       'Women/Underwear/Bras', 'Women/Tops & Blouses/Tank, Cami',\n",
       "       'Women/Tops & Blouses/Blouse',\n",
       "       ...\n",
       "       'Home/Bath/Bathroom Shelves', 'Men/Suits/One Button',\n",
       "       'Handmade/Toys/Doll Clothes', 'Handmade/Quilts/Trim',\n",
       "       'Handmade/Geekery/Housewares', 'Vintage & Collectibles/Supplies/Zipper',\n",
       "       'Kids/Diapering/Washcloths & Towels', 'Handmade/Furniture/Other',\n",
       "       'Handmade/Knitting/Doll', 'Handmade/Knitting/Women'],\n",
       "      dtype='object', length=1287)"
      ]
     },
     "execution_count": 16,
     "metadata": {},
     "output_type": "execute_result"
    }
   ],
   "source": [
    "pop_category"
   ]
  },
  {
   "cell_type": "code",
   "execution_count": 18,
   "metadata": {},
   "outputs": [],
   "source": [
    "train.loc[~train['category_name'].isin(pop_category), 'category_name'] = 'missing'"
   ]
  },
  {
   "cell_type": "code",
   "execution_count": 19,
   "metadata": {},
   "outputs": [
    {
     "data": {
      "text/plain": [
       "Women/Athletic Apparel/Pants, Tights, Leggings                 60177\n",
       "Women/Tops & Blouses/T-Shirts                                  46380\n",
       "Beauty/Makeup/Face                                             34335\n",
       "Beauty/Makeup/Lips                                             29910\n",
       "Electronics/Video Games & Consoles/Games                       26557\n",
       "Beauty/Makeup/Eyes                                             25215\n",
       "Electronics/Cell Phones & Accessories/Cases, Covers & Skins    24676\n",
       "Women/Underwear/Bras                                           21274\n",
       "Women/Tops & Blouses/Tank, Cami                                20284\n",
       "Women/Tops & Blouses/Blouse                                    20284\n",
       "Women/Dresses/Above Knee, Mini                                 20082\n",
       "Women/Jewelry/Necklaces                                        19758\n",
       "Women/Athletic Apparel/Shorts                                  19528\n",
       "Beauty/Makeup/Makeup Palettes                                  19103\n",
       "Women/Shoes/Boots                                              18864\n",
       "Beauty/Fragrance/Women                                         18628\n",
       "Beauty/Skin Care/Face                                          15836\n",
       "Women/Women's Handbags/Shoulder Bag                            15328\n",
       "Men/Tops/T-shirts                                              15108\n",
       "Women/Dresses/Knee-Length                                      14770\n",
       "Women/Athletic Apparel/Shirts & Tops                           14738\n",
       "Women/Shoes/Sandals                                            14662\n",
       "Women/Jewelry/Bracelets                                        14497\n",
       "Men/Shoes/Athletic                                             14257\n",
       "Kids/Toys/Dolls & Accessories                                  13957\n",
       "Women/Women's Accessories/Wallets                              13616\n",
       "Women/Jeans/Slim, Skinny                                       13392\n",
       "Home/Home Décor/Home Décor Accents                             13004\n",
       "Women/Swimwear/Two-Piece                                       12758\n",
       "Women/Shoes/Athletic                                           12662\n",
       "                                                               ...  \n",
       "Handmade/Knitting/Scarf                                            1\n",
       "Handmade/Jewelry/Clothing                                          1\n",
       "Handmade/Housewares/Storage Solutions                              1\n",
       "Handmade/Others/Educational                                        1\n",
       "Handmade/Art/Aceo                                                  1\n",
       "Handmade/Patterns/Baby                                             1\n",
       "Handmade/Holidays/New Years                                        1\n",
       "Handmade/Bags and Purses/Wallet                                    1\n",
       "Vintage & Collectibles/Supplies/Ephemera                           1\n",
       "Handmade/Housewares/Bathroom                                       1\n",
       "Handmade/Accessories/Cuff                                          1\n",
       "Handmade/Pets/Tag                                                  1\n",
       "Handmade/Patterns/Painting                                         1\n",
       "Kids/Safety/Bathroom Safety                                        1\n",
       "Handmade/Accessories/Cozy                                          1\n",
       "Handmade/Patterns/Embroidery                                       1\n",
       "Handmade/Furniture/Shelf                                           1\n",
       "Handmade/Dolls and Miniatures/Child Friendly                       1\n",
       "Vintage & Collectibles/Antique/Furniture                           1\n",
       "Handmade/Woodworking/Sports                                        1\n",
       "Home/Bath/Bathroom Shelves                                         1\n",
       "Men/Suits/One Button                                               1\n",
       "Handmade/Toys/Doll Clothes                                         1\n",
       "Handmade/Quilts/Trim                                               1\n",
       "Handmade/Geekery/Housewares                                        1\n",
       "Vintage & Collectibles/Supplies/Zipper                             1\n",
       "Kids/Diapering/Washcloths & Towels                                 1\n",
       "Handmade/Furniture/Other                                           1\n",
       "Handmade/Knitting/Doll                                             1\n",
       "Handmade/Knitting/Women                                            1\n",
       "Name: category_name, Length: 1288, dtype: int64"
      ]
     },
     "execution_count": 19,
     "metadata": {},
     "output_type": "execute_result"
    }
   ],
   "source": [
    "train['category_name'].value_counts()"
   ]
  },
  {
   "cell_type": "code",
   "execution_count": 20,
   "metadata": {},
   "outputs": [],
   "source": [
    "# to_categorical\n",
    "for df in train, test:\n",
    "    df['category_name'] = df['category_name'].astype('category')\n",
    "    df['brand_name'] = df['brand_name'].astype('category')\n",
    "    df['item_condition_id'] = df['item_condition_id'].astype('category')"
   ]
  },
  {
   "cell_type": "code",
   "execution_count": 21,
   "metadata": {},
   "outputs": [],
   "source": [
    "nrow_train = train.shape[0]"
   ]
  },
  {
   "cell_type": "code",
   "execution_count": 22,
   "metadata": {},
   "outputs": [
    {
     "data": {
      "text/plain": [
       "1482535"
      ]
     },
     "execution_count": 22,
     "metadata": {},
     "output_type": "execute_result"
    }
   ],
   "source": [
    "nrow_train"
   ]
  },
  {
   "cell_type": "code",
   "execution_count": 23,
   "metadata": {},
   "outputs": [],
   "source": [
    "y = np.log1p(train[\"price\"])"
   ]
  },
  {
   "cell_type": "code",
   "execution_count": 24,
   "metadata": {},
   "outputs": [],
   "source": [
    "cv = CountVectorizer(min_df=NAME_MIN_DF)\n",
    "X_name = cv.fit_transform(train['name'])"
   ]
  },
  {
   "cell_type": "code",
   "execution_count": 28,
   "metadata": {},
   "outputs": [
    {
     "data": {
      "text/plain": [
       "(1482535, 17740)"
      ]
     },
     "execution_count": 28,
     "metadata": {},
     "output_type": "execute_result"
    }
   ],
   "source": [
    "X_name.shape"
   ]
  },
  {
   "cell_type": "code",
   "execution_count": 29,
   "metadata": {},
   "outputs": [],
   "source": [
    "cv = CountVectorizer()\n",
    "X_category = cv.fit_transform(train['category_name'])"
   ]
  },
  {
   "cell_type": "code",
   "execution_count": 30,
   "metadata": {},
   "outputs": [
    {
     "data": {
      "text/plain": [
       "(1482535, 1012)"
      ]
     },
     "execution_count": 30,
     "metadata": {},
     "output_type": "execute_result"
    }
   ],
   "source": [
    "X_category.shape"
   ]
  },
  {
   "cell_type": "code",
   "execution_count": 31,
   "metadata": {},
   "outputs": [],
   "source": [
    "tv = TfidfVectorizer(max_features=MAX_FEATURES_ITEM_DESCRIPTION,\n",
    "                         ngram_range=(1, 3),\n",
    "                         stop_words='english')"
   ]
  },
  {
   "cell_type": "code",
   "execution_count": 32,
   "metadata": {},
   "outputs": [],
   "source": [
    "X_description = tv.fit_transform(train['item_description'])"
   ]
  },
  {
   "cell_type": "code",
   "execution_count": 33,
   "metadata": {},
   "outputs": [
    {
     "data": {
      "text/plain": [
       "(1482535, 3)"
      ]
     },
     "execution_count": 33,
     "metadata": {},
     "output_type": "execute_result"
    }
   ],
   "source": [
    "X_description.shape"
   ]
  },
  {
   "cell_type": "code",
   "execution_count": 34,
   "metadata": {},
   "outputs": [],
   "source": [
    "lb = LabelBinarizer(sparse_output=True)\n",
    "X_brand = lb.fit_transform(train['brand_name'])"
   ]
  },
  {
   "cell_type": "code",
   "execution_count": 35,
   "metadata": {},
   "outputs": [
    {
     "data": {
      "text/plain": [
       "(1482535, 4005)"
      ]
     },
     "execution_count": 35,
     "metadata": {},
     "output_type": "execute_result"
    }
   ],
   "source": [
    "X_brand.shape"
   ]
  },
  {
   "cell_type": "code",
   "execution_count": 37,
   "metadata": {},
   "outputs": [],
   "source": [
    "X_dummies = csr_matrix(pd.get_dummies(train[['item_condition_id', 'shipping']],\n",
    "                                          sparse=True).values)"
   ]
  },
  {
   "cell_type": "code",
   "execution_count": 38,
   "metadata": {},
   "outputs": [
    {
     "data": {
      "text/plain": [
       "(1482535, 6)"
      ]
     },
     "execution_count": 38,
     "metadata": {},
     "output_type": "execute_result"
    }
   ],
   "source": [
    "X_dummies.shape"
   ]
  },
  {
   "cell_type": "code",
   "execution_count": 39,
   "metadata": {},
   "outputs": [],
   "source": [
    "sparse_merge = hstack((X_dummies, X_description, X_brand, X_category, X_name)).tocsr()"
   ]
  },
  {
   "cell_type": "code",
   "execution_count": 40,
   "metadata": {},
   "outputs": [
    {
     "data": {
      "text/plain": [
       "(1482535, 22766)"
      ]
     },
     "execution_count": 40,
     "metadata": {},
     "output_type": "execute_result"
    }
   ],
   "source": [
    "sparse_merge.shape"
   ]
  },
  {
   "cell_type": "code",
   "execution_count": 42,
   "metadata": {},
   "outputs": [],
   "source": [
    "X = sparse_merge[:nrow_train]"
   ]
  },
  {
   "cell_type": "code",
   "execution_count": 43,
   "metadata": {},
   "outputs": [
    {
     "data": {
      "text/plain": [
       "(1482535, 22766)"
      ]
     },
     "execution_count": 43,
     "metadata": {},
     "output_type": "execute_result"
    }
   ],
   "source": [
    "X.shape"
   ]
  },
  {
   "cell_type": "code",
   "execution_count": 45,
   "metadata": {},
   "outputs": [],
   "source": [
    "X_test = sparse_merge[nrow_train:]    "
   ]
  },
  {
   "cell_type": "code",
   "execution_count": 46,
   "metadata": {},
   "outputs": [
    {
     "data": {
      "text/plain": [
       "(0, 22766)"
      ]
     },
     "execution_count": 46,
     "metadata": {},
     "output_type": "execute_result"
    }
   ],
   "source": [
    "X_test.shape"
   ]
  },
  {
   "cell_type": "code",
   "execution_count": 49,
   "metadata": {},
   "outputs": [
    {
     "data": {
      "text/plain": [
       "scipy.sparse.csr.csr_matrix"
      ]
     },
     "execution_count": 49,
     "metadata": {},
     "output_type": "execute_result"
    }
   ],
   "source": [
    "type(X_test)"
   ]
  },
  {
   "cell_type": "code",
   "execution_count": null,
   "metadata": {},
   "outputs": [],
   "source": []
  }
 ],
 "metadata": {
  "kernelspec": {
   "display_name": "Python 3",
   "language": "python",
   "name": "python3"
  },
  "language_info": {
   "codemirror_mode": {
    "name": "ipython",
    "version": 3
   },
   "file_extension": ".py",
   "mimetype": "text/x-python",
   "name": "python",
   "nbconvert_exporter": "python",
   "pygments_lexer": "ipython3",
   "version": "3.7.0"
  }
 },
 "nbformat": 4,
 "nbformat_minor": 2
}
