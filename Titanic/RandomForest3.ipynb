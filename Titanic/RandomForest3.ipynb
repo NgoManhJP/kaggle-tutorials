{
 "cells": [
  {
   "cell_type": "code",
   "execution_count": 1,
   "metadata": {},
   "outputs": [],
   "source": [
    "import re\n",
    "import numpy as np\n",
    "import pandas as pd\n",
    "import matplotlib.pyplot as plt\n",
    "import warnings\n",
    "from sklearn.ensemble import RandomForestClassifier"
   ]
  },
  {
   "cell_type": "code",
   "execution_count": 2,
   "metadata": {},
   "outputs": [],
   "source": [
    "train = pd.read_csv(\"./input/train.csv\")\n",
    "test = pd.read_csv(\"./input/test.csv\")"
   ]
  },
  {
   "cell_type": "code",
   "execution_count": 3,
   "metadata": {},
   "outputs": [
    {
     "data": {
      "text/html": [
       "<div>\n",
       "<style scoped>\n",
       "    .dataframe tbody tr th:only-of-type {\n",
       "        vertical-align: middle;\n",
       "    }\n",
       "\n",
       "    .dataframe tbody tr th {\n",
       "        vertical-align: top;\n",
       "    }\n",
       "\n",
       "    .dataframe thead th {\n",
       "        text-align: right;\n",
       "    }\n",
       "</style>\n",
       "<table border=\"1\" class=\"dataframe\">\n",
       "  <thead>\n",
       "    <tr style=\"text-align: right;\">\n",
       "      <th></th>\n",
       "      <th>Training data</th>\n",
       "      <th>Test data</th>\n",
       "    </tr>\n",
       "  </thead>\n",
       "  <tbody>\n",
       "    <tr>\n",
       "      <th>Total</th>\n",
       "      <td>891</td>\n",
       "      <td>418</td>\n",
       "    </tr>\n",
       "    <tr>\n",
       "      <th>Unique Cabin</th>\n",
       "      <td>148</td>\n",
       "      <td>77</td>\n",
       "    </tr>\n",
       "    <tr>\n",
       "      <th>Missing Cabin</th>\n",
       "      <td>687</td>\n",
       "      <td>327</td>\n",
       "    </tr>\n",
       "  </tbody>\n",
       "</table>\n",
       "</div>"
      ],
      "text/plain": [
       "               Training data  Test data\n",
       "Total                    891        418\n",
       "Unique Cabin             148         77\n",
       "Missing Cabin            687        327"
      ]
     },
     "execution_count": 3,
     "metadata": {},
     "output_type": "execute_result"
    }
   ],
   "source": [
    "missing_val_df = pd.DataFrame(index=[\"Total\", \"Unique Cabin\", \"Missing Cabin\"])\n",
    "for name, df in zip((\"Training data\", \"Test data\"), (train, test)):\n",
    "    total = df.shape[0]\n",
    "    unique_cabin = len(df[\"Cabin\"].unique())\n",
    "    missing_cabin = df[\"Cabin\"].isnull().sum()\n",
    "    missing_val_df[name] = [total, unique_cabin, missing_cabin]\n",
    "missing_val_df"
   ]
  },
  {
   "cell_type": "code",
   "execution_count": 4,
   "metadata": {},
   "outputs": [],
   "source": [
    "train.drop(\"PassengerId\", axis=1, inplace=True)\n",
    "for df in train, test:\n",
    "    df.drop(\"Cabin\", axis=1, inplace=True)"
   ]
  },
  {
   "cell_type": "code",
   "execution_count": 5,
   "metadata": {},
   "outputs": [],
   "source": [
    "for df in train, test:\n",
    "    df[\"Embarked\"].fillna(\"S\", inplace=True)\n",
    "    for feature in \"Age\", \"Fare\":\n",
    "        df[feature].fillna(train[feature].mean(), inplace=True)"
   ]
  },
  {
   "cell_type": "code",
   "execution_count": 6,
   "metadata": {},
   "outputs": [],
   "source": [
    "for df in train, test:\n",
    "    df.drop(\"Ticket\", axis=1, inplace=True)"
   ]
  },
  {
   "cell_type": "code",
   "execution_count": 7,
   "metadata": {},
   "outputs": [],
   "source": [
    "for df in train, test:\n",
    "    df[\"Embarked\"] = df[\"Embarked\"].map(dict(zip((\"S\", \"C\", \"Q\"), (0, 1, 2))))\n",
    "    df[\"Sex\"] = df[\"Sex\"].map(dict(zip((\"female\", \"male\"), (0, 1))))"
   ]
  },
  {
   "cell_type": "code",
   "execution_count": 8,
   "metadata": {},
   "outputs": [],
   "source": [
    "for df in train, test:\n",
    "    df[\"FamilySize\"] = df[\"SibSp\"] + df[\"Parch\"] + 1"
   ]
  },
  {
   "cell_type": "code",
   "execution_count": 9,
   "metadata": {},
   "outputs": [],
   "source": [
    "for df in train, test:\n",
    "    titles = list()\n",
    "    for row in df[\"Name\"]:\n",
    "        surname, title, name = re.split(r\"[,.]\", row, maxsplit=2)\n",
    "        titles.append(title.strip())\n",
    "    df[\"Title\"] = titles\n",
    "    df.drop(\"Name\", axis=1, inplace=True)"
   ]
  },
  {
   "cell_type": "code",
   "execution_count": 10,
   "metadata": {},
   "outputs": [
    {
     "name": "stderr",
     "output_type": "stream",
     "text": [
      "C:\\Users\\user\\AppData\\Roaming\\Python\\Python36\\site-packages\\ipykernel_launcher.py:14: SettingWithCopyWarning: \n",
      "A value is trying to be set on a copy of a slice from a DataFrame\n",
      "\n",
      "See the caveats in the documentation: http://pandas.pydata.org/pandas-docs/stable/indexing.html#indexing-view-versus-copy\n",
      "  \n"
     ]
    }
   ],
   "source": [
    "for df in train, test:\n",
    "    for key, value in zip((\"Mr\", \"Mrs\", \"Miss\", \"Master\", \"Dr\", \"Rev\"),\n",
    "                          np.arange(6)):\n",
    "        df.loc[df[\"Title\"] == key, \"Title\"] = value\n",
    "    df.loc[df[\"Title\"] == \"Ms\", \"Title\"] = 1\n",
    "    for title in \"Major\", \"Col\", \"Capt\":\n",
    "        df.loc[df[\"Title\"] == title, \"Title\"] = 6\n",
    "    for title in \"Mlle\", \"Mme\":\n",
    "        df.loc[df[\"Title\"] == title, \"Title\"] = 7\n",
    "    for title in \"Don\", \"Sir\":\n",
    "        df.loc[df[\"Title\"] == title, \"Title\"] = 8\n",
    "    for title in \"Lady\", \"the Countess\", \"Jonkheer\":\n",
    "        df.loc[df[\"Title\"] == title, \"Title\"] = 9\n",
    "test[\"Title\"][414] = 0"
   ]
  },
  {
   "cell_type": "code",
   "execution_count": 11,
   "metadata": {},
   "outputs": [
    {
     "data": {
      "text/html": [
       "<div>\n",
       "<style scoped>\n",
       "    .dataframe tbody tr th:only-of-type {\n",
       "        vertical-align: middle;\n",
       "    }\n",
       "\n",
       "    .dataframe tbody tr th {\n",
       "        vertical-align: top;\n",
       "    }\n",
       "\n",
       "    .dataframe thead th {\n",
       "        text-align: right;\n",
       "    }\n",
       "</style>\n",
       "<table border=\"1\" class=\"dataframe\">\n",
       "  <thead>\n",
       "    <tr style=\"text-align: right;\">\n",
       "      <th></th>\n",
       "      <th>Survived</th>\n",
       "      <th>Pclass</th>\n",
       "      <th>Sex</th>\n",
       "      <th>Age</th>\n",
       "      <th>SibSp</th>\n",
       "      <th>Parch</th>\n",
       "      <th>Fare</th>\n",
       "      <th>Embarked</th>\n",
       "      <th>FamilySize</th>\n",
       "      <th>Title</th>\n",
       "    </tr>\n",
       "  </thead>\n",
       "  <tbody>\n",
       "    <tr>\n",
       "      <th>0</th>\n",
       "      <td>0</td>\n",
       "      <td>3</td>\n",
       "      <td>1</td>\n",
       "      <td>22.0</td>\n",
       "      <td>1</td>\n",
       "      <td>0</td>\n",
       "      <td>7.2500</td>\n",
       "      <td>0</td>\n",
       "      <td>2</td>\n",
       "      <td>0</td>\n",
       "    </tr>\n",
       "    <tr>\n",
       "      <th>1</th>\n",
       "      <td>1</td>\n",
       "      <td>1</td>\n",
       "      <td>0</td>\n",
       "      <td>38.0</td>\n",
       "      <td>1</td>\n",
       "      <td>0</td>\n",
       "      <td>71.2833</td>\n",
       "      <td>1</td>\n",
       "      <td>2</td>\n",
       "      <td>1</td>\n",
       "    </tr>\n",
       "    <tr>\n",
       "      <th>2</th>\n",
       "      <td>1</td>\n",
       "      <td>3</td>\n",
       "      <td>0</td>\n",
       "      <td>26.0</td>\n",
       "      <td>0</td>\n",
       "      <td>0</td>\n",
       "      <td>7.9250</td>\n",
       "      <td>0</td>\n",
       "      <td>1</td>\n",
       "      <td>2</td>\n",
       "    </tr>\n",
       "  </tbody>\n",
       "</table>\n",
       "</div>"
      ],
      "text/plain": [
       "   Survived  Pclass  Sex   Age  SibSp  Parch     Fare  Embarked  FamilySize  \\\n",
       "0         0       3    1  22.0      1      0   7.2500         0           2   \n",
       "1         1       1    0  38.0      1      0  71.2833         1           2   \n",
       "2         1       3    0  26.0      0      0   7.9250         0           1   \n",
       "\n",
       "   Title  \n",
       "0      0  \n",
       "1      1  \n",
       "2      2  "
      ]
     },
     "execution_count": 11,
     "metadata": {},
     "output_type": "execute_result"
    }
   ],
   "source": [
    "train.head(3)"
   ]
  },
  {
   "cell_type": "code",
   "execution_count": 12,
   "metadata": {},
   "outputs": [],
   "source": [
    "from sklearn.model_selection import train_test_split\n",
    "\n",
    "predictors = [\"Pclass\", \"Sex\", \"Age\", \"SibSp\", \"Parch\",\n",
    "              \"Fare\", \"Embarked\", \"FamilySize\", \"Title\"]\n",
    "X_train, X_test, y_train, y_test = train_test_split(train[predictors], train[\"Survived\"])"
   ]
  },
  {
   "cell_type": "code",
   "execution_count": 13,
   "metadata": {},
   "outputs": [],
   "source": [
    "from sklearn.metrics import confusion_matrix\n",
    "from sklearn.metrics import f1_score\n",
    "from sklearn.model_selection import GridSearchCV\n",
    "from sklearn.metrics import make_scorer\n",
    "import xgboost as xgb\n",
    "import lightgbm as lgb"
   ]
  },
  {
   "cell_type": "code",
   "execution_count": 14,
   "metadata": {},
   "outputs": [],
   "source": [
    "# スコア方法をF1に設定\n",
    "f1_scoring = make_scorer(f1_score,  pos_label=1)"
   ]
  },
  {
   "cell_type": "code",
   "execution_count": 15,
   "metadata": {},
   "outputs": [
    {
     "name": "stdout",
     "output_type": "stream",
     "text": [
      "RandomForest\n"
     ]
    }
   ],
   "source": [
    "# RandomForest\n",
    "print(\"RandomForest\")\n",
    "forest_param = {\n",
    "    'n_estimators': [20,100,500],\n",
    "    'max_depth': [3,5,7,9],\n",
    "    'min_samples_leaf': [1, 2, 4]\n",
    "}"
   ]
  },
  {
   "cell_type": "code",
   "execution_count": 16,
   "metadata": {},
   "outputs": [],
   "source": [
    "from contextlib import contextmanager\n",
    "import time\n",
    "\n",
    "@contextmanager\n",
    "def timer(name):\n",
    "    t0 = time.time()\n",
    "    yield\n",
    "    print(f'[{name}] done in {time.time() - t0:.0f} s')"
   ]
  },
  {
   "cell_type": "code",
   "execution_count": 17,
   "metadata": {},
   "outputs": [
    {
     "name": "stdout",
     "output_type": "stream",
     "text": [
      "Best parameters: {'max_depth': 9, 'min_samples_leaf': 1, 'n_estimators': 20}\n",
      "[RandomForest Model Trainning] done in 27 s\n"
     ]
    }
   ],
   "source": [
    "with timer('RandomForest Model Trainning'):\n",
    "    # グリッドサーチで学習\n",
    "    rf = GridSearchCV(RandomForestClassifier(random_state=0, n_jobs=-1), forest_param, scoring=f1_scoring, cv=5)\n",
    "    rf.fit(X_train, y_train)\n",
    "    print('Best parameters: {}'.format(rf.best_params_))"
   ]
  },
  {
   "cell_type": "code",
   "execution_count": 18,
   "metadata": {},
   "outputs": [
    {
     "name": "stdout",
     "output_type": "stream",
     "text": [
      "Train score: 0.906\n",
      "Confusion matrix:\n",
      "[[126  15]\n",
      " [ 23  59]]\n",
      "f1 score: 0.756\n",
      "Pclass        0.080899\n",
      "Sex           0.189316\n",
      "Age           0.155218\n",
      "SibSp         0.029664\n",
      "Parch         0.022349\n",
      "Fare          0.183555\n",
      "Embarked      0.033418\n",
      "FamilySize    0.081554\n",
      "Title         0.224027\n",
      "dtype: float64\n"
     ]
    }
   ],
   "source": [
    "# スコア検証\n",
    "print('Train score: {:.3f}'.format(rf.score(X_train, y_train)))\n",
    "print('Confusion matrix:\\n{}'.format(confusion_matrix(y_test, rf.predict(X_test))))\n",
    "print('f1 score: {:.3f}'.format(f1_score(y_test, rf.predict(X_test))))\n",
    "rf_importances = pd.Series(rf.best_estimator_.feature_importances_, index = X_train.columns)\n",
    "print(rf_importances)"
   ]
  },
  {
   "cell_type": "code",
   "execution_count": 20,
   "metadata": {},
   "outputs": [],
   "source": [
    "prediction_rf = rf.predict(test[predictors])\n",
    "submission_rf = pd.DataFrame({\"PassengerId\": test[\"PassengerId\"], \"Survived\": prediction_rf})\n",
    "submission_rf.to_csv(\"submission_RandomForest3.csv\", index=False)"
   ]
  },
  {
   "cell_type": "code",
   "execution_count": 21,
   "metadata": {},
   "outputs": [
    {
     "name": "stdout",
     "output_type": "stream",
     "text": [
      "XGBoosting\n"
     ]
    }
   ],
   "source": [
    "# XGBoosting\n",
    "print(\"XGBoosting\")\n",
    "xgb_param = {\n",
    "    'learning_rate':[0.1,0.2],\n",
    "    'n_estimators':[20,100,500],\n",
    "    'max_depth':[3,5,7,9],\n",
    "    'min_child_weight':[0.5,1,2],\n",
    "    'max_delta_step':[5],\n",
    "    'gamma':[1,3,5],\n",
    "    'subsample':[0.8],\n",
    "    'colsample_bytree':[0.8],\n",
    "    'objective':['binary:logistic'],\n",
    "    'nthread':[4],\n",
    "    'scale_pos_weight':[1],\n",
    "    'seed':[0]\n",
    "}"
   ]
  },
  {
   "cell_type": "code",
   "execution_count": 22,
   "metadata": {},
   "outputs": [
    {
     "name": "stdout",
     "output_type": "stream",
     "text": [
      "[XGboost Model Trainning] done in 138 s\n",
      "Best parameters: {'colsample_bytree': 0.8, 'gamma': 3, 'learning_rate': 0.2, 'max_delta_step': 5, 'max_depth': 7, 'min_child_weight': 1, 'n_estimators': 500, 'nthread': 4, 'objective': 'binary:logistic', 'scale_pos_weight': 1, 'seed': 0, 'subsample': 0.8}\n"
     ]
    }
   ],
   "source": [
    "with timer('XGboost Model Trainning'):\n",
    "    # グリッドサーチで学習\n",
    "    xgb = GridSearchCV(xgb.XGBClassifier(\n",
    "        silent=True, booster='gbtree', reg_alpha=0, reg_lambda=1, base_score=0.5, random_state=0, missing=None),\n",
    "        xgb_param, scoring=f1_scoring, cv=4)\n",
    "    xgb.fit(X_train, y_train)\n",
    "print('Best parameters: {}'.format(xgb.best_params_))"
   ]
  },
  {
   "cell_type": "code",
   "execution_count": 23,
   "metadata": {},
   "outputs": [
    {
     "name": "stdout",
     "output_type": "stream",
     "text": [
      "Train score: 0.880\n",
      "Confusion matrix:\n",
      "[[127  14]\n",
      " [ 24  58]]\n",
      "f1 score: 0.753\n",
      "Pclass        0.069767\n",
      "Sex           0.034884\n",
      "Age           0.340116\n",
      "SibSp         0.023256\n",
      "Parch         0.008721\n",
      "Fare          0.375000\n",
      "Embarked      0.031977\n",
      "FamilySize    0.046512\n",
      "Title         0.069767\n",
      "dtype: float32\n"
     ]
    }
   ],
   "source": [
    "# スコア検証\n",
    "print('Train score: {:.3f}'.format(xgb.score(X_train, y_train)))\n",
    "print('Confusion matrix:\\n{}'.format(confusion_matrix(y_test, xgb.predict(X_test))))\n",
    "print('f1 score: {:.3f}'.format(f1_score(y_test, xgb.predict(X_test))))\n",
    "xgb_importances = pd.Series(xgb.best_estimator_.feature_importances_, index = X_train.columns)\n",
    "print(xgb_importances)"
   ]
  },
  {
   "cell_type": "code",
   "execution_count": 25,
   "metadata": {},
   "outputs": [],
   "source": [
    "test.Title = test.Title.astype(int)"
   ]
  },
  {
   "cell_type": "code",
   "execution_count": 26,
   "metadata": {},
   "outputs": [],
   "source": [
    "prediction_xgb = xgb.predict(test[predictors])\n",
    "submission_xgb = pd.DataFrame({\"PassengerId\": test[\"PassengerId\"], \"Survived\": prediction_xgb})\n",
    "submission_xgb.to_csv(\"submission_XGBoost2.csv\", index=False)"
   ]
  },
  {
   "cell_type": "code",
   "execution_count": 27,
   "metadata": {},
   "outputs": [
    {
     "name": "stdout",
     "output_type": "stream",
     "text": [
      "LightGBM\n",
      "[LightGBM Model Trainning] done in 50 s\n",
      "Best parameters: {'colsample_bytree': 0.8, 'learning_rate': 0.2, 'max_depth': 3, 'min_child_samples': 5, 'min_child_weight': 0.5, 'n_estimators': 100, 'num_leaves': 80, 'subsample': 0.8, 'verbose': -1}\n"
     ]
    }
   ],
   "source": [
    "# LightGBM\n",
    "print(\"LightGBM\")\n",
    "gbm_param = {\n",
    "    'learning_rate':[0.1,0.2],\n",
    "    'n_estimators':[20,100,500],\n",
    "    'max_depth':[3,5,7,9],\n",
    "    'min_child_weight':[0.5,1,2],\n",
    "    'min_child_samples':[5,10,20],\n",
    "    'subsample':[0.8],\n",
    "    'colsample_bytree':[0.8],\n",
    "    'verbose':[-1],\n",
    "    'num_leaves':[80]\n",
    "}\n",
    "with timer('LightGBM Model Trainning'):\n",
    "    # グリッドサーチで学習\n",
    "    gbm = GridSearchCV(lgb.LGBMClassifier(),gbm_param, scoring=f1_scoring, cv=5)\n",
    "    gbm.fit(X_train, y_train)\n",
    "print('Best parameters: {}'.format(gbm.best_params_))"
   ]
  },
  {
   "cell_type": "code",
   "execution_count": 28,
   "metadata": {},
   "outputs": [
    {
     "name": "stdout",
     "output_type": "stream",
     "text": [
      "Train score: 0.896\n",
      "Confusion matrix:\n",
      "[[125  16]\n",
      " [ 24  58]]\n",
      "f1 score: 0.744\n",
      "Pclass         35\n",
      "Sex            28\n",
      "Age           196\n",
      "SibSp          17\n",
      "Parch           9\n",
      "Fare          198\n",
      "Embarked       20\n",
      "FamilySize     36\n",
      "Title          50\n",
      "dtype: int32\n"
     ]
    }
   ],
   "source": [
    "# スコア検証\n",
    "print('Train score: {:.3f}'.format(gbm.score(X_train, y_train)))\n",
    "print('Confusion matrix:\\n{}'.format(confusion_matrix(y_test, gbm.predict(X_test))))\n",
    "print('f1 score: {:.3f}'.format(f1_score(y_test, gbm.predict(X_test))))\n",
    "gbm_importances = pd.Series(gbm.best_estimator_.feature_importances_, index = X_train.columns)\n",
    "print(gbm_importances)"
   ]
  },
  {
   "cell_type": "code",
   "execution_count": 30,
   "metadata": {},
   "outputs": [],
   "source": [
    "prediction_gbm = gbm.predict(test[predictors])\n",
    "submission_gbm = pd.DataFrame({\"PassengerId\": test[\"PassengerId\"], \"Survived\": prediction_gbm})\n",
    "submission_gbm.to_csv(\"submission_LightGBM2.csv\", index=False)"
   ]
  }
 ],
 "metadata": {
  "kernelspec": {
   "display_name": "Python 3",
   "language": "python",
   "name": "python3"
  },
  "language_info": {
   "codemirror_mode": {
    "name": "ipython",
    "version": 3
   },
   "file_extension": ".py",
   "mimetype": "text/x-python",
   "name": "python",
   "nbconvert_exporter": "python",
   "pygments_lexer": "ipython3",
   "version": "3.6.6"
  }
 },
 "nbformat": 4,
 "nbformat_minor": 2
}
